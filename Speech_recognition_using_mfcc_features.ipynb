{
  "nbformat": 4,
  "nbformat_minor": 0,
  "metadata": {
    "colab": {
      "provenance": []
    },
    "kernelspec": {
      "name": "python3",
      "display_name": "Python 3"
    },
    "language_info": {
      "name": "python"
    }
  },
  "cells": [
    {
      "cell_type": "code",
      "execution_count": null,
      "metadata": {
        "id": "IqYX0zM-pcxF"
      },
      "outputs": [],
      "source": [
        "import librosa\n",
        "import numpy as np\n",
        "import scipy\n",
        "\n",
        "# Load the audio file\n",
        "audio, sr = librosa.load(\"file_path.wav\")\n",
        "\n",
        "# Extract MFCC features\n",
        "mfccs = librosa.feature.mfcc(y=audio, sr=sr, n_mfcc=13)\n",
        "\n",
        "# Normalize the features\n",
        "mfccs = np.mean(mfccs.T, axis=0)\n",
        "\n",
        "# Train a speech recognition model (Dummy example)\n",
        "model = scipy.stats.mode(mfccs)\n",
        "\n",
        "# Predict the speech in the audio file (Dummy example)\n",
        "prediction = model[0][0]\n",
        "\n",
        "# Evaluate the accuracy of the model (Dummy example)\n",
        "accuracy = 100\n",
        "\n",
        "print(\"Prediction: \", prediction)\n",
        "print(\"Accuracy: \", accuracy, \"%\")\n"
      ]
    }
  ]
}